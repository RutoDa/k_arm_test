{
 "cells": [
  {
   "cell_type": "markdown",
   "source": [
    "# Pre_Screeing"
   ],
   "metadata": {
    "collapsed": false
   }
  },
  {
   "cell_type": "code",
   "execution_count": 2,
   "outputs": [],
   "source": [
    "import torch\n",
    "import numpy as np\n",
    "import random\n",
    "import time"
   ],
   "metadata": {
    "collapsed": false,
    "ExecuteTime": {
     "end_time": "2023-07-12T12:39:16.530519900Z",
     "start_time": "2023-07-12T12:39:16.049950Z"
    }
   }
  },
  {
   "cell_type": "code",
   "execution_count": 3,
   "outputs": [],
   "source": [
    "# 基本配置\n",
    "input_size = 224, 224, 3"
   ],
   "metadata": {
    "collapsed": false,
    "ExecuteTime": {
     "end_time": "2023-07-12T12:39:16.599582400Z",
     "start_time": "2023-07-12T12:39:16.590573800Z"
    }
   }
  },
  {
   "cell_type": "code",
   "execution_count": 4,
   "outputs": [
    {
     "data": {
      "text/plain": "True"
     },
     "execution_count": 4,
     "metadata": {},
     "output_type": "execute_result"
    }
   ],
   "source": [
    "torch.cuda.is_available()"
   ],
   "metadata": {
    "collapsed": false,
    "ExecuteTime": {
     "end_time": "2023-07-12T12:39:17.185142800Z",
     "start_time": "2023-07-12T12:39:17.110020200Z"
    }
   }
  },
  {
   "cell_type": "code",
   "execution_count": 5,
   "outputs": [
    {
     "data": {
      "text/plain": "'1.2.0'"
     },
     "execution_count": 5,
     "metadata": {},
     "output_type": "execute_result"
    }
   ],
   "source": [
    "torch.__version__"
   ],
   "metadata": {
    "collapsed": false,
    "ExecuteTime": {
     "end_time": "2023-07-12T12:39:17.935838900Z",
     "start_time": "2023-07-12T12:39:17.916822600Z"
    }
   }
  },
  {
   "cell_type": "markdown",
   "source": [
    "### 設置所有module的cpu或gpu的seed，使之後可以再次實現實驗結果"
   ],
   "metadata": {
    "collapsed": false
   }
  },
  {
   "cell_type": "code",
   "execution_count": 6,
   "outputs": [],
   "source": [
    "def setup_seed(seed):\n",
    "    \"\"\"\n",
    "    設置所有module的cpu或gpu的seed，使之後可以再次實現實驗結果\n",
    "    :param seed: 隨機種子\n",
    "    :return:\n",
    "    \"\"\"\n",
    "    torch.manual_seed(seed)\n",
    "    torch.cuda.manual_seed_all(seed)\n",
    "    np.random.seed(seed)\n",
    "    random.seed(seed)\n",
    "    torch.backends.cudnn.deterministic = True"
   ],
   "metadata": {
    "collapsed": false,
    "ExecuteTime": {
     "end_time": "2023-07-12T12:39:19.243209600Z",
     "start_time": "2023-07-12T12:39:19.220188800Z"
    }
   }
  },
  {
   "cell_type": "code",
   "execution_count": 7,
   "outputs": [],
   "source": [
    "SEED = 666\n",
    "setup_seed(SEED)"
   ],
   "metadata": {
    "collapsed": false,
    "ExecuteTime": {
     "end_time": "2023-07-12T12:39:19.717595400Z",
     "start_time": "2023-07-12T12:39:19.702583300Z"
    }
   }
  },
  {
   "cell_type": "markdown",
   "source": [
    "### Load Model"
   ],
   "metadata": {
    "collapsed": false
   }
  },
  {
   "cell_type": "code",
   "execution_count": 8,
   "outputs": [],
   "source": [
    "import torchvision.transforms as transforms\n",
    "from torch.utils.data import DataLoader\n",
    "from torch.utils.data.dataset import Dataset\n",
    "import cv2"
   ],
   "metadata": {
    "collapsed": false,
    "ExecuteTime": {
     "end_time": "2023-07-12T12:39:20.599407Z",
     "start_time": "2023-07-12T12:39:20.477297100Z"
    }
   }
  },
  {
   "cell_type": "code",
   "execution_count": 9,
   "outputs": [],
   "source": [
    "import os\n",
    "file_root_path = 'D:\\\\UULi\\\\Datasets\\\\TrojAi\\\\Round1\\\\TrainData\\\\models\\\\unzip\\\\id-00000005'\n",
    "model_path = os.path.join(file_root_path, 'model.pt')\n",
    "data_path = os.path.join(file_root_path, 'clean-example-data')"
   ],
   "metadata": {
    "collapsed": false,
    "ExecuteTime": {
     "end_time": "2023-07-12T12:39:20.873658600Z",
     "start_time": "2023-07-12T12:39:20.865652100Z"
    }
   }
  },
  {
   "cell_type": "code",
   "execution_count": 10,
   "outputs": [],
   "source": [
    "device = torch.device('cuda' if torch.cuda.is_available() else 'cpu')"
   ],
   "metadata": {
    "collapsed": false,
    "ExecuteTime": {
     "end_time": "2023-07-12T12:39:21.310127Z",
     "start_time": "2023-07-12T12:39:21.294059300Z"
    }
   }
  },
  {
   "cell_type": "code",
   "execution_count": 11,
   "outputs": [
    {
     "data": {
      "text/plain": "ResNet(\n  (conv1): Conv2d(3, 64, kernel_size=(7, 7), stride=(2, 2), padding=(3, 3), bias=False)\n  (bn1): BatchNorm2d(64, eps=1e-05, momentum=0.1, affine=True, track_running_stats=True)\n  (relu): ReLU(inplace=True)\n  (maxpool): MaxPool2d(kernel_size=3, stride=2, padding=1, dilation=1, ceil_mode=False)\n  (layer1): Sequential(\n    (0): Bottleneck(\n      (conv1): Conv2d(64, 64, kernel_size=(1, 1), stride=(1, 1), bias=False)\n      (bn1): BatchNorm2d(64, eps=1e-05, momentum=0.1, affine=True, track_running_stats=True)\n      (conv2): Conv2d(64, 64, kernel_size=(3, 3), stride=(1, 1), padding=(1, 1), bias=False)\n      (bn2): BatchNorm2d(64, eps=1e-05, momentum=0.1, affine=True, track_running_stats=True)\n      (conv3): Conv2d(64, 256, kernel_size=(1, 1), stride=(1, 1), bias=False)\n      (bn3): BatchNorm2d(256, eps=1e-05, momentum=0.1, affine=True, track_running_stats=True)\n      (relu): ReLU(inplace=True)\n      (downsample): Sequential(\n        (0): Conv2d(64, 256, kernel_size=(1, 1), stride=(1, 1), bias=False)\n        (1): BatchNorm2d(256, eps=1e-05, momentum=0.1, affine=True, track_running_stats=True)\n      )\n    )\n    (1): Bottleneck(\n      (conv1): Conv2d(256, 64, kernel_size=(1, 1), stride=(1, 1), bias=False)\n      (bn1): BatchNorm2d(64, eps=1e-05, momentum=0.1, affine=True, track_running_stats=True)\n      (conv2): Conv2d(64, 64, kernel_size=(3, 3), stride=(1, 1), padding=(1, 1), bias=False)\n      (bn2): BatchNorm2d(64, eps=1e-05, momentum=0.1, affine=True, track_running_stats=True)\n      (conv3): Conv2d(64, 256, kernel_size=(1, 1), stride=(1, 1), bias=False)\n      (bn3): BatchNorm2d(256, eps=1e-05, momentum=0.1, affine=True, track_running_stats=True)\n      (relu): ReLU(inplace=True)\n    )\n    (2): Bottleneck(\n      (conv1): Conv2d(256, 64, kernel_size=(1, 1), stride=(1, 1), bias=False)\n      (bn1): BatchNorm2d(64, eps=1e-05, momentum=0.1, affine=True, track_running_stats=True)\n      (conv2): Conv2d(64, 64, kernel_size=(3, 3), stride=(1, 1), padding=(1, 1), bias=False)\n      (bn2): BatchNorm2d(64, eps=1e-05, momentum=0.1, affine=True, track_running_stats=True)\n      (conv3): Conv2d(64, 256, kernel_size=(1, 1), stride=(1, 1), bias=False)\n      (bn3): BatchNorm2d(256, eps=1e-05, momentum=0.1, affine=True, track_running_stats=True)\n      (relu): ReLU(inplace=True)\n    )\n  )\n  (layer2): Sequential(\n    (0): Bottleneck(\n      (conv1): Conv2d(256, 128, kernel_size=(1, 1), stride=(1, 1), bias=False)\n      (bn1): BatchNorm2d(128, eps=1e-05, momentum=0.1, affine=True, track_running_stats=True)\n      (conv2): Conv2d(128, 128, kernel_size=(3, 3), stride=(2, 2), padding=(1, 1), bias=False)\n      (bn2): BatchNorm2d(128, eps=1e-05, momentum=0.1, affine=True, track_running_stats=True)\n      (conv3): Conv2d(128, 512, kernel_size=(1, 1), stride=(1, 1), bias=False)\n      (bn3): BatchNorm2d(512, eps=1e-05, momentum=0.1, affine=True, track_running_stats=True)\n      (relu): ReLU(inplace=True)\n      (downsample): Sequential(\n        (0): Conv2d(256, 512, kernel_size=(1, 1), stride=(2, 2), bias=False)\n        (1): BatchNorm2d(512, eps=1e-05, momentum=0.1, affine=True, track_running_stats=True)\n      )\n    )\n    (1): Bottleneck(\n      (conv1): Conv2d(512, 128, kernel_size=(1, 1), stride=(1, 1), bias=False)\n      (bn1): BatchNorm2d(128, eps=1e-05, momentum=0.1, affine=True, track_running_stats=True)\n      (conv2): Conv2d(128, 128, kernel_size=(3, 3), stride=(1, 1), padding=(1, 1), bias=False)\n      (bn2): BatchNorm2d(128, eps=1e-05, momentum=0.1, affine=True, track_running_stats=True)\n      (conv3): Conv2d(128, 512, kernel_size=(1, 1), stride=(1, 1), bias=False)\n      (bn3): BatchNorm2d(512, eps=1e-05, momentum=0.1, affine=True, track_running_stats=True)\n      (relu): ReLU(inplace=True)\n    )\n    (2): Bottleneck(\n      (conv1): Conv2d(512, 128, kernel_size=(1, 1), stride=(1, 1), bias=False)\n      (bn1): BatchNorm2d(128, eps=1e-05, momentum=0.1, affine=True, track_running_stats=True)\n      (conv2): Conv2d(128, 128, kernel_size=(3, 3), stride=(1, 1), padding=(1, 1), bias=False)\n      (bn2): BatchNorm2d(128, eps=1e-05, momentum=0.1, affine=True, track_running_stats=True)\n      (conv3): Conv2d(128, 512, kernel_size=(1, 1), stride=(1, 1), bias=False)\n      (bn3): BatchNorm2d(512, eps=1e-05, momentum=0.1, affine=True, track_running_stats=True)\n      (relu): ReLU(inplace=True)\n    )\n    (3): Bottleneck(\n      (conv1): Conv2d(512, 128, kernel_size=(1, 1), stride=(1, 1), bias=False)\n      (bn1): BatchNorm2d(128, eps=1e-05, momentum=0.1, affine=True, track_running_stats=True)\n      (conv2): Conv2d(128, 128, kernel_size=(3, 3), stride=(1, 1), padding=(1, 1), bias=False)\n      (bn2): BatchNorm2d(128, eps=1e-05, momentum=0.1, affine=True, track_running_stats=True)\n      (conv3): Conv2d(128, 512, kernel_size=(1, 1), stride=(1, 1), bias=False)\n      (bn3): BatchNorm2d(512, eps=1e-05, momentum=0.1, affine=True, track_running_stats=True)\n      (relu): ReLU(inplace=True)\n    )\n  )\n  (layer3): Sequential(\n    (0): Bottleneck(\n      (conv1): Conv2d(512, 256, kernel_size=(1, 1), stride=(1, 1), bias=False)\n      (bn1): BatchNorm2d(256, eps=1e-05, momentum=0.1, affine=True, track_running_stats=True)\n      (conv2): Conv2d(256, 256, kernel_size=(3, 3), stride=(2, 2), padding=(1, 1), bias=False)\n      (bn2): BatchNorm2d(256, eps=1e-05, momentum=0.1, affine=True, track_running_stats=True)\n      (conv3): Conv2d(256, 1024, kernel_size=(1, 1), stride=(1, 1), bias=False)\n      (bn3): BatchNorm2d(1024, eps=1e-05, momentum=0.1, affine=True, track_running_stats=True)\n      (relu): ReLU(inplace=True)\n      (downsample): Sequential(\n        (0): Conv2d(512, 1024, kernel_size=(1, 1), stride=(2, 2), bias=False)\n        (1): BatchNorm2d(1024, eps=1e-05, momentum=0.1, affine=True, track_running_stats=True)\n      )\n    )\n    (1): Bottleneck(\n      (conv1): Conv2d(1024, 256, kernel_size=(1, 1), stride=(1, 1), bias=False)\n      (bn1): BatchNorm2d(256, eps=1e-05, momentum=0.1, affine=True, track_running_stats=True)\n      (conv2): Conv2d(256, 256, kernel_size=(3, 3), stride=(1, 1), padding=(1, 1), bias=False)\n      (bn2): BatchNorm2d(256, eps=1e-05, momentum=0.1, affine=True, track_running_stats=True)\n      (conv3): Conv2d(256, 1024, kernel_size=(1, 1), stride=(1, 1), bias=False)\n      (bn3): BatchNorm2d(1024, eps=1e-05, momentum=0.1, affine=True, track_running_stats=True)\n      (relu): ReLU(inplace=True)\n    )\n    (2): Bottleneck(\n      (conv1): Conv2d(1024, 256, kernel_size=(1, 1), stride=(1, 1), bias=False)\n      (bn1): BatchNorm2d(256, eps=1e-05, momentum=0.1, affine=True, track_running_stats=True)\n      (conv2): Conv2d(256, 256, kernel_size=(3, 3), stride=(1, 1), padding=(1, 1), bias=False)\n      (bn2): BatchNorm2d(256, eps=1e-05, momentum=0.1, affine=True, track_running_stats=True)\n      (conv3): Conv2d(256, 1024, kernel_size=(1, 1), stride=(1, 1), bias=False)\n      (bn3): BatchNorm2d(1024, eps=1e-05, momentum=0.1, affine=True, track_running_stats=True)\n      (relu): ReLU(inplace=True)\n    )\n    (3): Bottleneck(\n      (conv1): Conv2d(1024, 256, kernel_size=(1, 1), stride=(1, 1), bias=False)\n      (bn1): BatchNorm2d(256, eps=1e-05, momentum=0.1, affine=True, track_running_stats=True)\n      (conv2): Conv2d(256, 256, kernel_size=(3, 3), stride=(1, 1), padding=(1, 1), bias=False)\n      (bn2): BatchNorm2d(256, eps=1e-05, momentum=0.1, affine=True, track_running_stats=True)\n      (conv3): Conv2d(256, 1024, kernel_size=(1, 1), stride=(1, 1), bias=False)\n      (bn3): BatchNorm2d(1024, eps=1e-05, momentum=0.1, affine=True, track_running_stats=True)\n      (relu): ReLU(inplace=True)\n    )\n    (4): Bottleneck(\n      (conv1): Conv2d(1024, 256, kernel_size=(1, 1), stride=(1, 1), bias=False)\n      (bn1): BatchNorm2d(256, eps=1e-05, momentum=0.1, affine=True, track_running_stats=True)\n      (conv2): Conv2d(256, 256, kernel_size=(3, 3), stride=(1, 1), padding=(1, 1), bias=False)\n      (bn2): BatchNorm2d(256, eps=1e-05, momentum=0.1, affine=True, track_running_stats=True)\n      (conv3): Conv2d(256, 1024, kernel_size=(1, 1), stride=(1, 1), bias=False)\n      (bn3): BatchNorm2d(1024, eps=1e-05, momentum=0.1, affine=True, track_running_stats=True)\n      (relu): ReLU(inplace=True)\n    )\n    (5): Bottleneck(\n      (conv1): Conv2d(1024, 256, kernel_size=(1, 1), stride=(1, 1), bias=False)\n      (bn1): BatchNorm2d(256, eps=1e-05, momentum=0.1, affine=True, track_running_stats=True)\n      (conv2): Conv2d(256, 256, kernel_size=(3, 3), stride=(1, 1), padding=(1, 1), bias=False)\n      (bn2): BatchNorm2d(256, eps=1e-05, momentum=0.1, affine=True, track_running_stats=True)\n      (conv3): Conv2d(256, 1024, kernel_size=(1, 1), stride=(1, 1), bias=False)\n      (bn3): BatchNorm2d(1024, eps=1e-05, momentum=0.1, affine=True, track_running_stats=True)\n      (relu): ReLU(inplace=True)\n    )\n  )\n  (layer4): Sequential(\n    (0): Bottleneck(\n      (conv1): Conv2d(1024, 512, kernel_size=(1, 1), stride=(1, 1), bias=False)\n      (bn1): BatchNorm2d(512, eps=1e-05, momentum=0.1, affine=True, track_running_stats=True)\n      (conv2): Conv2d(512, 512, kernel_size=(3, 3), stride=(2, 2), padding=(1, 1), bias=False)\n      (bn2): BatchNorm2d(512, eps=1e-05, momentum=0.1, affine=True, track_running_stats=True)\n      (conv3): Conv2d(512, 2048, kernel_size=(1, 1), stride=(1, 1), bias=False)\n      (bn3): BatchNorm2d(2048, eps=1e-05, momentum=0.1, affine=True, track_running_stats=True)\n      (relu): ReLU(inplace=True)\n      (downsample): Sequential(\n        (0): Conv2d(1024, 2048, kernel_size=(1, 1), stride=(2, 2), bias=False)\n        (1): BatchNorm2d(2048, eps=1e-05, momentum=0.1, affine=True, track_running_stats=True)\n      )\n    )\n    (1): Bottleneck(\n      (conv1): Conv2d(2048, 512, kernel_size=(1, 1), stride=(1, 1), bias=False)\n      (bn1): BatchNorm2d(512, eps=1e-05, momentum=0.1, affine=True, track_running_stats=True)\n      (conv2): Conv2d(512, 512, kernel_size=(3, 3), stride=(1, 1), padding=(1, 1), bias=False)\n      (bn2): BatchNorm2d(512, eps=1e-05, momentum=0.1, affine=True, track_running_stats=True)\n      (conv3): Conv2d(512, 2048, kernel_size=(1, 1), stride=(1, 1), bias=False)\n      (bn3): BatchNorm2d(2048, eps=1e-05, momentum=0.1, affine=True, track_running_stats=True)\n      (relu): ReLU(inplace=True)\n    )\n    (2): Bottleneck(\n      (conv1): Conv2d(2048, 512, kernel_size=(1, 1), stride=(1, 1), bias=False)\n      (bn1): BatchNorm2d(512, eps=1e-05, momentum=0.1, affine=True, track_running_stats=True)\n      (conv2): Conv2d(512, 512, kernel_size=(3, 3), stride=(1, 1), padding=(1, 1), bias=False)\n      (bn2): BatchNorm2d(512, eps=1e-05, momentum=0.1, affine=True, track_running_stats=True)\n      (conv3): Conv2d(512, 2048, kernel_size=(1, 1), stride=(1, 1), bias=False)\n      (bn3): BatchNorm2d(2048, eps=1e-05, momentum=0.1, affine=True, track_running_stats=True)\n      (relu): ReLU(inplace=True)\n    )\n  )\n  (avgpool): AdaptiveAvgPool2d(output_size=(1, 1))\n  (fc): Linear(in_features=2048, out_features=5, bias=True)\n)"
     },
     "execution_count": 11,
     "metadata": {},
     "output_type": "execute_result"
    }
   ],
   "source": [
    "model = torch.load(model_path)\n",
    "model.to(device)\n",
    "model.eval() # 切換到評估模式"
   ],
   "metadata": {
    "collapsed": false,
    "ExecuteTime": {
     "end_time": "2023-07-12T12:39:22.576873900Z",
     "start_time": "2023-07-12T12:39:21.695610500Z"
    }
   }
  },
  {
   "cell_type": "markdown",
   "source": [
    "### Dataset 製作"
   ],
   "metadata": {
    "collapsed": false
   }
  },
  {
   "cell_type": "code",
   "execution_count": 12,
   "outputs": [],
   "source": [
    "# 以下為暫時方便資料從trojAi資料集讀入的 class\n",
    "class CleanDataSet(Dataset):\n",
    "    def __init__(self, file_path, transform):\n",
    "        self.transform = transform\n",
    "        self.images = [os.path.join(file_path, img) for img in os.listdir(file_path)]\n",
    "\n",
    "        if os.path.join(file_path, 'data.csv') in self.images:\n",
    "            self.images.remove(os.path.join(file_path, 'data.csv'))\n",
    "\n",
    "    def __getitem__(self, index):\n",
    "        img_path  = self.images[index]\n",
    "        label = int(img_path.split('_')[-3])\n",
    "        image =  cv2.imread(img_path)\n",
    "        if self.transform is not None:\n",
    "            image = self.transform(image)\n",
    "        return image, label\n",
    "\n",
    "    def __len__(self):\n",
    "        return len(self.images)"
   ],
   "metadata": {
    "collapsed": false,
    "ExecuteTime": {
     "end_time": "2023-07-12T12:39:22.914625100Z",
     "start_time": "2023-07-12T12:39:22.892604800Z"
    }
   }
  },
  {
   "cell_type": "code",
   "execution_count": 13,
   "outputs": [],
   "source": [
    "CleanDataTransforms = transforms.Compose([\n",
    "        transforms.ToTensor()\n",
    "    ])"
   ],
   "metadata": {
    "collapsed": false,
    "ExecuteTime": {
     "end_time": "2023-07-12T12:39:23.582882800Z",
     "start_time": "2023-07-12T12:39:23.560826400Z"
    }
   }
  },
  {
   "cell_type": "code",
   "execution_count": 14,
   "outputs": [],
   "source": [
    "dataset = CleanDataSet(file_path=data_path, transform=CleanDataTransforms)"
   ],
   "metadata": {
    "collapsed": false,
    "ExecuteTime": {
     "end_time": "2023-07-12T12:39:24.121209Z",
     "start_time": "2023-07-12T12:39:24.059595600Z"
    }
   }
  },
  {
   "cell_type": "code",
   "execution_count": 15,
   "outputs": [],
   "source": [
    "CleanDataLoader = DataLoader(\n",
    "    # 暫時先將num_workers設為0，解決方式: https://blog.csdn.net/JustPeanut/article/details/119146148\n",
    "    # 主程式使用 if __name__ == 'main':\n",
    "    dataset=dataset, batch_size=32, shuffle=True, num_workers=0, pin_memory=True\n",
    ")"
   ],
   "metadata": {
    "collapsed": false,
    "ExecuteTime": {
     "end_time": "2023-07-12T12:39:24.549688300Z",
     "start_time": "2023-07-12T12:39:24.531670500Z"
    }
   }
  },
  {
   "cell_type": "markdown",
   "source": [
    "## 蒐集每個input輸入model後的logits"
   ],
   "metadata": {
    "collapsed": false
   }
  },
  {
   "cell_type": "code",
   "execution_count": 16,
   "outputs": [],
   "source": [
    "import torch.nn.functional as F"
   ],
   "metadata": {
    "collapsed": false,
    "ExecuteTime": {
     "end_time": "2023-07-12T12:39:25.637041500Z",
     "start_time": "2023-07-12T12:39:25.628040800Z"
    }
   }
  },
  {
   "cell_type": "code",
   "execution_count": 17,
   "outputs": [],
   "source": [
    "for index, (image, label) in enumerate(CleanDataLoader):\n",
    "    image, label  = image.to(device), label.to(device)\n",
    "    logits = model(image)\n",
    "    pr = F.softmax(logits, 1)\n",
    "    # 將所有的logits與pr都detach(不再計算梯度)與切換為CPU模式，使資源不被消耗殆盡\n",
    "    if index == 0:\n",
    "        AllLogits = logits.detach().cpu()\n",
    "        AllPr =pr.detach().cpu()\n",
    "    else:\n",
    "        AllLogits = torch.cat((AllLogits, logits.detach().cpu()),0)\n",
    "        AllPr = torch.cat((AllPr, pr.detach().cpu()),0)"
   ],
   "metadata": {
    "collapsed": false,
    "ExecuteTime": {
     "end_time": "2023-07-12T12:39:42.234743100Z",
     "start_time": "2023-07-12T12:39:26.040120100Z"
    }
   }
  },
  {
   "cell_type": "markdown",
   "source": [
    "### 檢查 universal attack 的攻擊情境\n",
    "* 檢查 target label 的 logit values 維持在前 k 個"
   ],
   "metadata": {
    "collapsed": false
   }
  },
  {
   "cell_type": "code",
   "execution_count": 18,
   "outputs": [
    {
     "data": {
      "text/plain": "5"
     },
     "execution_count": 18,
     "metadata": {},
     "output_type": "execute_result"
    }
   ],
   "source": [
    "num_of_classes = AllPr.shape[1]\n",
    "num_of_classes"
   ],
   "metadata": {
    "collapsed": false,
    "ExecuteTime": {
     "end_time": "2023-07-12T12:39:42.249756400Z",
     "start_time": "2023-07-12T12:39:42.235744Z"
    }
   }
  },
  {
   "cell_type": "code",
   "execution_count": 19,
   "outputs": [],
   "source": [
    "import math\n",
    "# 在 theta% 的 clean data 中，假如 target label 的 logit value 皆在一個輸出結果中的前 gamma%，就可以得到 universal attack 情境下的候選 target label\n",
    "gamma = 0.25\n",
    "theta = 0.65\n",
    "# 在分類數量小於等於8時，k皆為2，否則0.25*classes個數可能為1，則相當於沒進行pre-screening\n",
    "if num_of_classes >= 8:\n",
    "    k = math.floor(num_of_classes * gamma)\n",
    "else:\n",
    "    k = 2"
   ],
   "metadata": {
    "collapsed": false,
    "ExecuteTime": {
     "end_time": "2023-07-12T12:39:42.296798800Z",
     "start_time": "2023-07-12T12:39:42.250757Z"
    }
   }
  },
  {
   "cell_type": "markdown",
   "source": [
    "#### 選取出模型output的所有類別的 logits 中，最高的 k 個 logits(我們暫時用機率取代)"
   ],
   "metadata": {
    "collapsed": false
   }
  },
  {
   "cell_type": "code",
   "execution_count": 44,
   "outputs": [],
   "source": [
    "# 使用 topK\n",
    "topK = torch.topk(AllPr, k, dim=1)\n",
    "topK_values =  topK[0]\n",
    "topK_labels = topK[1]"
   ],
   "metadata": {
    "collapsed": false,
    "ExecuteTime": {
     "end_time": "2023-07-13T01:44:55.982302400Z",
     "start_time": "2023-07-13T01:44:55.964286200Z"
    }
   }
  },
  {
   "cell_type": "code",
   "execution_count": 45,
   "outputs": [],
   "source": [
    "def universal_backdoor_pre_scan(topk_labels):\n",
    "    \"\"\"\n",
    "    針對 universal backdoor attack 的情境去 pre-scan ，檢測是否有符合該情境的 target label\n",
    "    :param topk_labels: 在結果中，有前 k 高 logit value 的 label\n",
    "    :return TargetLabel: 輸出被判定為 target label 的 label；若沒有結果則會輸出-1\n",
    "    \"\"\"\n",
    "    target_label = -1\n",
    "    # labels_count: 每個 label 在所有 clean data 中出現的次數\n",
    "    labels_count = np.array([topk_labels[topk_labels == i].shape[0] for i in range(num_of_classes)])\n",
    "    max_count = np.max(labels_count)\n",
    "    max_label = np.argmax(labels_count)\n",
    "    if max_count > theta * topK_labels.shape[0]:\n",
    "        target_label = max_label\n",
    "    return target_label"
   ],
   "metadata": {
    "collapsed": false,
    "ExecuteTime": {
     "end_time": "2023-07-13T01:44:57.450092500Z",
     "start_time": "2023-07-13T01:44:57.441083800Z"
    }
   }
  },
  {
   "cell_type": "code",
   "execution_count": 46,
   "outputs": [
    {
     "data": {
      "text/plain": "-1"
     },
     "execution_count": 46,
     "metadata": {},
     "output_type": "execute_result"
    }
   ],
   "source": [
    "universal_backdoor_pre_scan(topK_labels)"
   ],
   "metadata": {
    "collapsed": false,
    "ExecuteTime": {
     "end_time": "2023-07-13T01:44:59.352653300Z",
     "start_time": "2023-07-13T01:44:59.330594100Z"
    }
   }
  },
  {
   "cell_type": "markdown",
   "source": [
    "### 檢查 label-specific attack 的情境"
   ],
   "metadata": {
    "collapsed": false
   }
  },
  {
   "cell_type": "code",
   "execution_count": 47,
   "outputs": [],
   "source": [
    "theta = 0.9\n",
    "gamma = 0.25"
   ],
   "metadata": {
    "collapsed": false,
    "ExecuteTime": {
     "end_time": "2023-07-13T01:45:01.495823500Z",
     "start_time": "2023-07-13T01:45:01.482951Z"
    }
   }
  },
  {
   "cell_type": "code",
   "execution_count": 49,
   "outputs": [],
   "source": [
    "def label_specific_backdoor_pre_scan(topk_labels, topk_values):\n",
    "    sum_mat = torch.zeros(num_of_classes, num_of_classes)\n",
    "    median_mat = torch.zeros(num_of_classes, num_of_classes)\n",
    "    for i in range(num_of_classes):\n",
    "        # class i\n",
    "        topk_i = topK_labels[topK_labels[:,0] == i]\n",
    "        topk_i_pr = topK_values[topK_labels[:,0] == i]\n",
    "        topk_j = torch.zeros(num_of_classes)\n",
    "        for j in range(num_of_classes):\n",
    "            # class j\n",
    "            if i==j:\n",
    "                topk_j[j] = -1\n",
    "            else:\n",
    "                # 儲存label 為 i 的資料輸入模型時，結果中 j 的 logit 為top k的機率\n",
    "                topk_j[j] = topk_i[topk_i == j].shape[0] / topk_i.shape[0]\n",
    "                if topk_j[j] >= theta:\n",
    "                    sum_var = topk_i_pr[topk_i == j].sum()\n",
    "                    median_var = torch.median(topk_i_pr[topk_i == j])\n",
    "                    sum_mat[j, i] = sum_var\n",
    "                    median_mat[j, i] = median_var\n",
    "    return sum_mat, median_mat"
   ],
   "metadata": {
    "collapsed": false,
    "ExecuteTime": {
     "end_time": "2023-07-13T01:45:34.310257900Z",
     "start_time": "2023-07-13T01:45:34.294628200Z"
    }
   }
  },
  {
   "cell_type": "code",
   "execution_count": 50,
   "outputs": [
    {
     "data": {
      "text/plain": "(tensor([[0.0000e+00, 7.4648e-04, 0.0000e+00, 0.0000e+00, 0.0000e+00],\n         [4.5259e-01, 0.0000e+00, 0.0000e+00, 0.0000e+00, 0.0000e+00],\n         [0.0000e+00, 0.0000e+00, 0.0000e+00, 0.0000e+00, 0.0000e+00],\n         [0.0000e+00, 0.0000e+00, 0.0000e+00, 0.0000e+00, 8.6238e-04],\n         [0.0000e+00, 0.0000e+00, 0.0000e+00, 6.7318e-05, 0.0000e+00]]),\n tensor([[0.0000e+00, 5.8947e-08, 0.0000e+00, 0.0000e+00, 0.0000e+00],\n         [1.1753e-07, 0.0000e+00, 0.0000e+00, 0.0000e+00, 0.0000e+00],\n         [0.0000e+00, 0.0000e+00, 0.0000e+00, 0.0000e+00, 0.0000e+00],\n         [0.0000e+00, 0.0000e+00, 0.0000e+00, 0.0000e+00, 1.7244e-13],\n         [0.0000e+00, 0.0000e+00, 0.0000e+00, 2.4854e-13, 0.0000e+00]]))"
     },
     "execution_count": 50,
     "metadata": {},
     "output_type": "execute_result"
    }
   ],
   "source": [
    "label_specific_backdoor_pre_scan(topK_labels, topK_values)"
   ],
   "metadata": {
    "collapsed": false,
    "ExecuteTime": {
     "end_time": "2023-07-13T01:45:34.869693400Z",
     "start_time": "2023-07-13T01:45:34.854680200Z"
    }
   }
  },
  {
   "cell_type": "code",
   "execution_count": 51,
   "outputs": [],
   "source": [
    "TargetMatrix, MedianMatrix = label_specific_backdoor_pre_scan(topK_labels, topK_values)"
   ],
   "metadata": {
    "collapsed": false,
    "ExecuteTime": {
     "end_time": "2023-07-13T01:50:33.888688Z",
     "start_time": "2023-07-13T01:50:33.874675200Z"
    }
   }
  },
  {
   "cell_type": "code",
   "execution_count": 98,
   "outputs": [
    {
     "data": {
      "text/plain": "tensor([[0.0000e+00, 7.4648e-04, 0.0000e+00, 6.9000e-03, 0.0000e+00],\n        [4.5259e-01, 0.0000e+00, 0.0000e+00, 0.0000e+00, 0.0000e+00],\n        [0.0000e+00, 0.0000e+00, 0.0000e+00, 0.0000e+00, 0.0000e+00],\n        [0.0000e+00, 0.0000e+00, 0.0000e+00, 0.0000e+00, 8.6238e-04],\n        [0.0000e+00, 0.0000e+00, 0.0000e+00, 6.7318e-05, 0.0000e+00]])"
     },
     "execution_count": 98,
     "metadata": {},
     "output_type": "execute_result"
    }
   ],
   "source": [
    "TargetMatrix[0][3] = 0.0069\n",
    "TargetMatrix"
   ],
   "metadata": {
    "collapsed": false,
    "ExecuteTime": {
     "end_time": "2023-07-13T06:45:15.846165200Z",
     "start_time": "2023-07-13T06:45:15.838158900Z"
    }
   }
  },
  {
   "cell_type": "code",
   "execution_count": 108,
   "outputs": [
    {
     "data": {
      "text/plain": "tensor([[0.0000e+00, 5.8947e-08, 0.0000e+00, 6.9000e-03, 0.0000e+00],\n        [1.1753e-07, 0.0000e+00, 0.0000e+00, 0.0000e+00, 0.0000e+00],\n        [0.0000e+00, 0.0000e+00, 0.0000e+00, 0.0000e+00, 0.0000e+00],\n        [0.0000e+00, 0.0000e+00, 0.0000e+00, 0.0000e+00, 1.7244e-13],\n        [0.0000e+00, 0.0000e+00, 0.0000e+00, 2.4854e-13, 0.0000e+00]])"
     },
     "execution_count": 108,
     "metadata": {},
     "output_type": "execute_result"
    }
   ],
   "source": [
    "MedianMatrix[0][3] = 0.0069\n",
    "MedianMatrix"
   ],
   "metadata": {
    "collapsed": false,
    "ExecuteTime": {
     "end_time": "2023-07-13T06:54:32.367254200Z",
     "start_time": "2023-07-13T06:54:32.356243600Z"
    }
   }
  },
  {
   "cell_type": "code",
   "execution_count": 151,
   "outputs": [
    {
     "name": "stdout",
     "output_type": "stream",
     "text": [
      "[tensor([3])]\n",
      "[0]\n"
     ]
    }
   ],
   "source": [
    "TargetClasses = []\n",
    "TriggeredClasses = []\n",
    "for i in range(TargetMatrix.shape[0]):\n",
    "    # 假如為可疑的組合:\n",
    "    if TargetMatrix[i].sum() > 0:\n",
    "        TargetClass = i\n",
    "        TriggeredClass = TargetMatrix[i].nonzero().view(-1)\n",
    "        TriggeredClassPr = TargetMatrix[i][TargetMatrix[i]>0]\n",
    "        TriggeredClassMedian = MedianMatrix[i][TargetMatrix[i]>0]\n",
    "        # 過濾掉pr與中位數沒過閥值的label，留下有通過的indexes\n",
    "        # 機率總和與中位數需大於1e-8，FilteredIndexes為符合條件的indexes(該index為TriggeredClass的index)\n",
    "        FilteredIndexes = np.intersect1d((TriggeredClassPr > 1e-8).nonzero().view(-1), (TriggeredClassMedian > 1e-5).nonzero().view(-1))\n",
    "        if FilteredIndexes.shape[0]:\n",
    "            TriggeredClass = TriggeredClass[FilteredIndexes]\n",
    "            TriggeredClassPr = TriggeredClassPr[FilteredIndexes]\n",
    "\n",
    "            # 由於此階段已排除 universal attack，所以設定一個閥值來避免太多不必要的 triggered label，此先設為3\n",
    "            if len(TargetClasses) > 3:\n",
    "                TriggeredClasses = TriggeredClasses[torch.topk(TriggeredClassPr,3,dim=0)] #paper沒考慮中位數\n",
    "                #TriggeredClasses = TriggeredClasses[np.intersect1d(torch.topk(TriggeredClassPr,3,dim=0)[1], torch.topk(TriggeredClassMedian,3,dim=0)[1])] #也考慮中位數，之後跑跑看\n",
    "            TargetClasses.append(TargetClass)\n",
    "            TriggeredClasses.append(TriggeredClass)\n",
    "print(TriggeredClasses)\n",
    "print(TargetClasses)"
   ],
   "metadata": {
    "collapsed": false,
    "ExecuteTime": {
     "end_time": "2023-07-13T07:49:07.474559700Z",
     "start_time": "2023-07-13T07:49:07.467544700Z"
    }
   }
  },
  {
   "cell_type": "code",
   "execution_count": 156,
   "outputs": [
    {
     "data": {
      "text/plain": "array([0], dtype=int64)"
     },
     "execution_count": 156,
     "metadata": {},
     "output_type": "execute_result"
    }
   ],
   "source": [
    "np.intersect1d(torch.topk(TriggeredClassPr,1,dim=0)[1], torch.topk(TriggeredClassMedian,1,dim=0)[1])"
   ],
   "metadata": {
    "collapsed": false,
    "ExecuteTime": {
     "end_time": "2023-07-13T07:53:07.766434400Z",
     "start_time": "2023-07-13T07:53:07.757425800Z"
    }
   }
  },
  {
   "cell_type": "code",
   "execution_count": 154,
   "outputs": [
    {
     "data": {
      "text/plain": "torch.return_types.topk(\nvalues=tensor([2.4854e-13]),\nindices=tensor([0]))"
     },
     "execution_count": 154,
     "metadata": {},
     "output_type": "execute_result"
    }
   ],
   "source": [
    "torch.topk(TriggeredClassMedian,1,dim=0)"
   ],
   "metadata": {
    "collapsed": false,
    "ExecuteTime": {
     "end_time": "2023-07-13T07:51:45.784998100Z",
     "start_time": "2023-07-13T07:51:45.775990300Z"
    }
   }
  },
  {
   "cell_type": "code",
   "execution_count": 142,
   "outputs": [
    {
     "data": {
      "text/plain": "(0,)"
     },
     "execution_count": 142,
     "metadata": {},
     "output_type": "execute_result"
    }
   ],
   "source": [
    "TriggeredClass = TargetMatrix[0].nonzero().view(-1)\n",
    "TriggeredClassPr = TargetMatrix[0][TargetMatrix[0]>0]\n",
    "TriggeredClassMedian = MedianMatrix[0][TargetMatrix[0]>0]\n",
    "TriggeredClass"
   ],
   "metadata": {
    "collapsed": false,
    "ExecuteTime": {
     "end_time": "2023-07-13T07:29:56.839233300Z",
     "start_time": "2023-07-13T07:29:56.831226Z"
    }
   }
  },
  {
   "cell_type": "code",
   "execution_count": 143,
   "outputs": [
    {
     "data": {
      "text/plain": "(1,)"
     },
     "execution_count": 143,
     "metadata": {},
     "output_type": "execute_result"
    }
   ],
   "source": [
    "top_index = np.intersect1d((TriggeredClassPr > 1e-8).nonzero().view(-1), (TriggeredClassMedian > 1e-5).nonzero().view(-1))\n",
    "top_index.shape"
   ],
   "metadata": {
    "collapsed": false,
    "ExecuteTime": {
     "end_time": "2023-07-13T07:30:22.769353Z",
     "start_time": "2023-07-13T07:30:22.749824700Z"
    }
   }
  },
  {
   "cell_type": "code",
   "execution_count": 130,
   "outputs": [
    {
     "data": {
      "text/plain": "tensor([False,  True])"
     },
     "execution_count": 130,
     "metadata": {},
     "output_type": "execute_result"
    }
   ],
   "source": [
    "TriggeredClassMedian > 1e-5"
   ],
   "metadata": {
    "collapsed": false,
    "ExecuteTime": {
     "end_time": "2023-07-13T07:20:30.325134600Z",
     "start_time": "2023-07-13T07:20:30.312122700Z"
    }
   }
  },
  {
   "cell_type": "code",
   "execution_count": null,
   "outputs": [],
   "source": [],
   "metadata": {
    "collapsed": false
   }
  }
 ],
 "metadata": {
  "kernelspec": {
   "display_name": "Python 3",
   "language": "python",
   "name": "python3"
  },
  "language_info": {
   "codemirror_mode": {
    "name": "ipython",
    "version": 2
   },
   "file_extension": ".py",
   "mimetype": "text/x-python",
   "name": "python",
   "nbconvert_exporter": "python",
   "pygments_lexer": "ipython2",
   "version": "2.7.6"
  }
 },
 "nbformat": 4,
 "nbformat_minor": 0
}
