{
 "cells": [
  {
   "cell_type": "code",
   "execution_count": 1,
   "outputs": [],
   "source": [
    "import torch\n",
    "import numpy as np\n",
    "import random\n",
    "import time\n",
    "import os\n",
    "from k_arm.utils import *\n",
    "from k_arm.prescreening import pre_screening\n",
    "SEED = 666\n",
    "FILE_ROOT_PATH = 'D:\\\\UULi\\\\Datasets\\\\TrojAi\\\\Round1\\\\TrainData\\\\models\\\\unzip\\\\id-00000102'\n",
    "MODEL_PATH = os.path.join(FILE_ROOT_PATH, 'model.pt')\n",
    "DATA_PATH = os.path.join(FILE_ROOT_PATH, 'clean-example-data')"
   ],
   "metadata": {
    "collapsed": false,
    "ExecuteTime": {
     "end_time": "2023-07-15T04:19:33.206407900Z",
     "start_time": "2023-07-15T04:19:32.826063500Z"
    }
   }
  },
  {
   "cell_type": "code",
   "execution_count": 2,
   "outputs": [],
   "source": [
    "def classes_matching(target_classes_all, triggered_classes_all):\n",
    "    start_index = len(target_classes_all)\n",
    "    for i in range(len(triggered_classes_all)):\n",
    "        tmp = triggered_classes_all[i]\n",
    "        for sss in range(tmp.size(0)):\n",
    "            target_classes_all.append(target_classes_all[i])\n",
    "            triggered_classes_all.append(tmp[sss])\n",
    "\n",
    "    end_index = len(target_classes_all)\n",
    "\n",
    "    if start_index != end_index:\n",
    "        target_classes_all = target_classes_all[start_index:]\n",
    "        triggered_classes_all = triggered_classes_all[start_index:]\n",
    "\n",
    "    return target_classes_all, triggered_classes_all"
   ],
   "metadata": {
    "collapsed": false,
    "ExecuteTime": {
     "end_time": "2023-07-15T04:19:33.222423400Z",
     "start_time": "2023-07-15T04:19:33.209412100Z"
    }
   }
  },
  {
   "cell_type": "code",
   "execution_count": 3,
   "outputs": [
    {
     "name": "stdout",
     "output_type": "stream",
     "text": [
      "--------------------Pre-Screening開始--------------------\n",
      "[0, 1] [tensor([1]), tensor([0])]\n",
      "3.8703346252441406\n"
     ]
    }
   ],
   "source": [
    "if __name__ == '__main__':\n",
    "    StartTime = time.time()\n",
    "    setup_seed(SEED)\n",
    "    model = load_model(MODEL_PATH)\n",
    "    print(f\"{'-' * 20}Pre-Screening開始{'-' * 20}\")\n",
    "    # pre_screening會回傳過濾後可疑的target classes與victim classes\n",
    "    FilteredTargetClasses, FilteredVictimClasses = pre_screening(model, DATA_PATH)\n",
    "    print(FilteredTargetClasses, FilteredVictimClasses)\n",
    "    #print(f(FilteredTargetClasses, FilteredVictimClasses))\n",
    "    #print(classes_matching(FilteredTargetClasses, FilteredVictimClasses))\n",
    "\n",
    "    TimeCost = time.time() - StartTime\n",
    "    print(f\"{TimeCost}\")"
   ],
   "metadata": {
    "collapsed": false,
    "ExecuteTime": {
     "end_time": "2023-07-15T04:19:37.111774500Z",
     "start_time": "2023-07-15T04:19:33.224424800Z"
    }
   }
  },
  {
   "cell_type": "code",
   "execution_count": 4,
   "outputs": [
    {
     "data": {
      "text/plain": "[0, 1]"
     },
     "execution_count": 4,
     "metadata": {},
     "output_type": "execute_result"
    }
   ],
   "source": [
    "FilteredTargetClasses"
   ],
   "metadata": {
    "collapsed": false,
    "ExecuteTime": {
     "end_time": "2023-07-15T04:19:40.361943400Z",
     "start_time": "2023-07-15T04:19:40.348931800Z"
    }
   }
  },
  {
   "cell_type": "code",
   "execution_count": 5,
   "outputs": [
    {
     "data": {
      "text/plain": "[tensor([1]), tensor([0])]"
     },
     "execution_count": 5,
     "metadata": {},
     "output_type": "execute_result"
    }
   ],
   "source": [
    "FilteredVictimClasses"
   ],
   "metadata": {
    "collapsed": false,
    "ExecuteTime": {
     "end_time": "2023-07-15T04:19:41.162057100Z",
     "start_time": "2023-07-15T04:19:41.157043700Z"
    }
   }
  },
  {
   "cell_type": "code",
   "execution_count": 6,
   "outputs": [
    {
     "data": {
      "text/plain": "([0, 1], [tensor(1), tensor(0)])"
     },
     "execution_count": 6,
     "metadata": {},
     "output_type": "execute_result"
    }
   ],
   "source": [
    "classes_matching(FilteredTargetClasses, FilteredVictimClasses)"
   ],
   "metadata": {
    "collapsed": false,
    "ExecuteTime": {
     "end_time": "2023-07-15T04:19:42.816467500Z",
     "start_time": "2023-07-15T04:19:42.804456500Z"
    }
   }
  },
  {
   "cell_type": "code",
   "execution_count": null,
   "outputs": [],
   "source": [],
   "metadata": {
    "collapsed": false
   }
  }
 ],
 "metadata": {
  "kernelspec": {
   "display_name": "Python 3",
   "language": "python",
   "name": "python3"
  },
  "language_info": {
   "codemirror_mode": {
    "name": "ipython",
    "version": 2
   },
   "file_extension": ".py",
   "mimetype": "text/x-python",
   "name": "python",
   "nbconvert_exporter": "python",
   "pygments_lexer": "ipython2",
   "version": "2.7.6"
  }
 },
 "nbformat": 4,
 "nbformat_minor": 0
}
